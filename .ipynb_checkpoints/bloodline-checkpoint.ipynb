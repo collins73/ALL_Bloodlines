{
 "cells": [
  {
   "cell_type": "code",
   "id": "initial_id",
   "metadata": {
    "collapsed": true,
    "jupyter": {
     "is_executing": true
    },
    "ExecuteTime": {
     "start_time": "2024-08-31T04:09:09.315487Z"
    }
   },
   "source": [
    "import pandas as pd\n",
    "\n",
    "# Create a dictionary with the data\n",
    "data = {'Pledge year': ['Spring 2002', 'Spring 2002', 'Spring 2003', 'Spring 2003', 'Spring 2003', 'Spring 2003', 'Spring 2003', 'Spring 2003', 'Spring 2003', 'Spring 2004', 'Spring 2004', 'Spring 2005', 'Spring 2005', 'Spring 2006', 'Spring 2006', 'Spring 2006', 'Spring 2006', 'Spring 2006', 'Spring 2008', 'Fall 2008', 'Fall 2008', 'Spring 2012', 'Spring 2012', 'Spring 2013', 'Fall 2015', 'Fall 2015', 'Fall 2015', 'Fall 2015', 'Fall 2015', 'Fall 2015', 'Fall 2018', 'Fall 2018', 'Fall 2018', 'Fall 2021', 'Fall 2021', 'Fall 2021', 'Spring 2022', 'Spring 2022', 'Spring 2023', 'Spring 2023', 'Spring 2023', 'Spring 2024', 'Spring 2024'],\n",
    "        'Line Names': ['Two Beans in a Bucket', 'Two Beans in a Bucket', 'Daniels Line', 'Daniels Line', 'Daniels Line', 'Daniels Line', 'Daniels Line', 'Daniels Line', 'Daniels Line', 'Qtinuation', 'Qtinuation', 'Soldiers of Discretion', 'Soldiers of Discretion', 'Purple Haze', 'Purple Haze', 'Purple Haze', 'Purple Haze', 'Purple Haze', 'Last Man Standing', 'Ying Yang Twinz', 'Ying Yang Twinz', 'Quelateral Damages', 'Quelateral Damages', 'Single Shot at Destiny', 'V6 Ride or Die', 'V6 Ride or Die', 'V6 Ride or Die', 'V6 Ride or Die', 'V6 Ride or Die', 'V6 Ride or Die', '3 The Hard Way', '3 The Hard Way', '3 The Hard Way', 'Da Bomb Squad', 'Da Bomb Squad', 'Da Bomb Squad', 'Two Queribbean Souls', 'Two Queribbean Souls', 'The Aftermath 3', 'The Aftermath 3', 'The Aftermath 3', 'Two Sons of Tenacity', 'Two Sons of Tenacity'],\n",
    "        'Sons of ALL': ['Andre \"Luther V\" Pippen', 'Jimmy \"Colorblind\" Wanzer', 'Frinso Padivill', 'Tyque McCarthy', 'Berket Godsey', 'Norris Goode', 'Gerry Washington', 'Damion Pressor', 'Patrick Ellerby', 'Gary “Scrappy” Williams', 'Rod “Scooby Doo” Jimil Barris', 'Malek “Movie Star” Crawford', 'Elliot “Harlem Shaq” Thweatt', 'Ralph Rogers', 'Lucky O\\'Connor', 'Robert Tolbert', 'Stephen Corsey', 'Tion Johnson', 'Curtis \"Hollywood\" Giles', 'Levar \"Uncle Rucques\" Jordan', 'Sekou \"Hancock\" Oney', 'Dwayne \"Black Ops\" Lockett', 'Billy \"Blackowt\" Anderson', 'Irving \"Wheezy\" Duhart', 'Treance \"The Kid\" Hobbs', 'Keith \"Easy\" Jones', 'James \"Get Smart\" Greene Jr.', 'Paul \"Shotgun\" Flemings', 'Larnell \"Charge\" Simpson Jr.', 'Demayne \"Shake\" Collins', 'Andrew “QueHeffner” Rollins', 'Brian “EQuefax” Smith', 'Darryl “BlackQuelightning” McGuire', 'Dr. Nathaniel “Time Bomb” Mizzell', 'Johnny “Short Fuse” Fleetwood', 'Pattrezzes “Live Wire” Myles Sr.', 'Levi \"Passport\" Davis', 'Pierre \"Top Flight\" Saint Louis', 'Gregory “Slim Shaddy” Powers', 'Maurice “Bizaar” Hill', 'Tracy “Cool Breeze” White', 'Taj “Radio” Weems', 'Camren “A-Track” McKinney']}\n",
    "\n",
    "# Create the DataFrame\n",
    "df = pd.DataFrame(data)\n",
    "\n",
    "# Display the DataFrame\n",
    "print(df)\n"
   ],
   "outputs": [],
   "execution_count": null
  }
 ],
 "metadata": {
  "kernelspec": {
   "display_name": "Python 3",
   "language": "python",
   "name": "python3"
  },
  "language_info": {
   "codemirror_mode": {
    "name": "ipython",
    "version": 2
   },
   "file_extension": ".py",
   "mimetype": "text/x-python",
   "name": "python",
   "nbconvert_exporter": "python",
   "pygments_lexer": "ipython2",
   "version": "2.7.6"
  }
 },
 "nbformat": 4,
 "nbformat_minor": 5
}
